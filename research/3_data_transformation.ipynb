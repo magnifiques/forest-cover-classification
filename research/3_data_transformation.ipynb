{
 "cells": [
  {
   "cell_type": "code",
   "execution_count": 2,
   "id": "338e75f4",
   "metadata": {},
   "outputs": [],
   "source": [
    "import os"
   ]
  },
  {
   "cell_type": "code",
   "execution_count": 1,
   "id": "1e93f9e8",
   "metadata": {},
   "outputs": [
    {
     "data": {
      "text/plain": [
       "'d:\\\\Courses\\\\Udemy\\\\Complete MLOps Bootcamp\\\\Projects\\\\7_End to End Projects\\\\end-to-end-data-science-project\\\\research'"
      ]
     },
     "execution_count": 1,
     "metadata": {},
     "output_type": "execute_result"
    }
   ],
   "source": [
    "%pwd"
   ]
  },
  {
   "cell_type": "code",
   "execution_count": 3,
   "id": "d5dd2a25",
   "metadata": {},
   "outputs": [],
   "source": [
    "os.chdir('../')"
   ]
  },
  {
   "cell_type": "code",
   "execution_count": 4,
   "id": "3ed63468",
   "metadata": {},
   "outputs": [
    {
     "data": {
      "text/plain": [
       "'d:\\\\Courses\\\\Udemy\\\\Complete MLOps Bootcamp\\\\Projects\\\\7_End to End Projects\\\\end-to-end-data-science-project'"
      ]
     },
     "execution_count": 4,
     "metadata": {},
     "output_type": "execute_result"
    }
   ],
   "source": [
    "%pwd"
   ]
  },
  {
   "cell_type": "code",
   "execution_count": 5,
   "id": "2115fc2e",
   "metadata": {},
   "outputs": [],
   "source": [
    "from dataclasses import dataclass\n",
    "from pathlib import Path\n",
    "\n",
    "@dataclass\n",
    "class DataTransformationConfig:\n",
    "    root_dir: Path\n",
    "    data_path: Path\n",
    "    "
   ]
  },
  {
   "cell_type": "code",
   "execution_count": 6,
   "id": "f922901b",
   "metadata": {},
   "outputs": [],
   "source": [
    "from src.project.constants import *\n",
    "from src.project.utils.common import read_yaml, create_directories"
   ]
  },
  {
   "cell_type": "code",
   "execution_count": 8,
   "id": "01c32a17",
   "metadata": {},
   "outputs": [],
   "source": [
    "class ConfigurationManager:\n",
    "    def __init__(self, \n",
    "                 config_filepath=CONFIG_FILE_PATH,\n",
    "                  params_filepath = PARAMS_FILE_PATH,\n",
    "                 schema_filepath = SCHEMA_FILE_PATH):\n",
    "        \n",
    "        self.config=read_yaml(config_filepath)\n",
    "        self.params=read_yaml(params_filepath)\n",
    "        self.schema=read_yaml(schema_filepath)   \n",
    "\n",
    "        create_directories([self.config.artifacts_root])\n",
    "    \n",
    "    def get_transformation_config(self)-> DataTransformationConfig:\n",
    "        config=self.config.data_transformation\n",
    "        \n",
    "        create_directories([config.root_dir])\n",
    "\n",
    "        data_transformation_config= DataTransformationConfig(\n",
    "            root_dir=config.root_dir,\n",
    "            data_path=config.data_path)\n",
    "        \n",
    "        return data_transformation_config"
   ]
  },
  {
   "cell_type": "code",
   "execution_count": 13,
   "id": "e3277ece",
   "metadata": {},
   "outputs": [],
   "source": [
    "from sklearn.model_selection import train_test_split\n",
    "import pandas as pd\n",
    "from src.project import logger"
   ]
  },
  {
   "cell_type": "code",
   "execution_count": 15,
   "id": "3e8746d3",
   "metadata": {},
   "outputs": [],
   "source": [
    "class DataTransformation:\n",
    "    def __init__(self, config: DataTransformationConfig):\n",
    "        self.config = config\n",
    "\n",
    "    \n",
    "    ## Note: You can add different data transformation techniques such as Scaler, PCA and all\n",
    "    #You can perform all kinds of EDA in ML cycle here before passing this data to the model\n",
    "\n",
    "  \n",
    "    def train_test_splitting(self):\n",
    "        data = pd.read_csv(self.config.data_path)\n",
    "\n",
    "        # Split the data into training and test sets. (0.75, 0.25) split.\n",
    "        train, test = train_test_split(data, test_size=0.2, random_state=42)\n",
    "\n",
    "        train.to_csv(os.path.join(self.config.root_dir, \"dataset_train.csv\"),index = False)\n",
    "        \n",
    "        validation, test = train_test_split(test, test_size=0.5, random_state=42)\n",
    "        \n",
    "        validation.to_csv(os.path.join(self.config.root_dir, \"dataset_validation.csv\"), index=False)\n",
    "        \n",
    "        test.to_csv(os.path.join(self.config.root_dir, \"dataset_test.csv\"),index = False)\n",
    "\n",
    "        logger.info(\"Splitted data into training, validation, and test sets\")\n",
    "        \n",
    "        logger.info(train.shape)\n",
    "        logger.info(validation.shape)\n",
    "        logger.info(test.shape)\n",
    "\n",
    "        print(train.shape)\n",
    "        print(validation.shape)\n",
    "        print(test.shape)\n",
    "        "
   ]
  },
  {
   "cell_type": "code",
   "execution_count": 16,
   "id": "da43cddf",
   "metadata": {},
   "outputs": [
    {
     "name": "stdout",
     "output_type": "stream",
     "text": [
      "[2025-09-06 15:08:14,364: INFO: common: yaml file: config\\config.yaml loaded successfully]\n",
      "[2025-09-06 15:08:14,429: INFO: common: yaml file: params.yaml loaded successfully]\n",
      "[2025-09-06 15:08:14,462: INFO: common: yaml file: schema.yaml loaded successfully]\n",
      "[2025-09-06 15:08:14,493: INFO: common: created directory at: artifacts]\n",
      "[2025-09-06 15:08:14,500: INFO: common: created directory at: artifacts/data_transformation]\n",
      "[2025-09-06 15:08:34,737: INFO: 4111175371: Splitted data into training, validation, and test sets]\n",
      "[2025-09-06 15:08:34,800: INFO: 4111175371: (464809, 55)]\n",
      "[2025-09-06 15:08:34,802: INFO: 4111175371: (58101, 55)]\n",
      "[2025-09-06 15:08:34,804: INFO: 4111175371: (58102, 55)]\n",
      "(464809, 55)\n",
      "(58101, 55)\n",
      "(58102, 55)\n"
     ]
    }
   ],
   "source": [
    "try:\n",
    "    config = ConfigurationManager()\n",
    "    data_transformation_config = config.get_transformation_config()\n",
    "    data_transformation = DataTransformation(config=data_transformation_config)\n",
    "    data_transformation.train_test_splitting()\n",
    "    \n",
    "except Exception as e:\n",
    "    raise e"
   ]
  },
  {
   "cell_type": "code",
   "execution_count": null,
   "id": "998f9390",
   "metadata": {},
   "outputs": [],
   "source": []
  }
 ],
 "metadata": {
  "kernelspec": {
   "display_name": "Python 3",
   "language": "python",
   "name": "python3"
  },
  "language_info": {
   "codemirror_mode": {
    "name": "ipython",
    "version": 3
   },
   "file_extension": ".py",
   "mimetype": "text/x-python",
   "name": "python",
   "nbconvert_exporter": "python",
   "pygments_lexer": "ipython3",
   "version": "3.10.0"
  }
 },
 "nbformat": 4,
 "nbformat_minor": 5
}
